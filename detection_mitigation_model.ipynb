{
  "nbformat": 4,
  "nbformat_minor": 0,
  "metadata": {
    "colab": {
      "provenance": []
    },
    "kernelspec": {
      "name": "python3",
      "display_name": "Python 3"
    },
    "language_info": {
      "name": "python"
    }
  },
  "cells": [
    {
      "cell_type": "code",
      "execution_count": null,
      "metadata": {
        "id": "AwnswbtVznqD"
      },
      "outputs": [],
      "source": [
        "import math\n",
        "import subprocess\n",
        "import time\n",
        "import pandas as pd\n",
        "import numpy as np\n",
        "import matplotlib.pyplot as plt\n",
        "from sklearn.impute import SimpleImputer\n",
        "from sklearn.ensemble import RandomForestClassifier\n",
        "from sklearn.model_selection import train_test_split\n",
        "from sklearn.metrics import accuracy_score, precision_score, recall_score, f1_score\n",
        "from sklearn.preprocessing import StandardScaler"
      ]
    },
    {
      "cell_type": "code",
      "source": [
        "! gdown --id 1GHH5pz4OP2PWmCKxqSvR0Oq3FwI9mrPA\n",
        "! gdown --id 1ofjTfvsPyIwel7R8Vmx9XHS_NOdWr6Hd\n",
        "! gdown --id 1-Hq4hH_Qeo1MWeQeinBVpwaIOFUDY7z2"
      ],
      "metadata": {
        "colab": {
          "base_uri": "https://localhost:8080/"
        },
        "id": "NfT3qzTKgXkA",
        "outputId": "d7903e9d-a7ae-4817-81b5-6f281234dd72"
      },
      "execution_count": null,
      "outputs": [
        {
          "output_type": "stream",
          "name": "stdout",
          "text": [
            "/usr/local/lib/python3.10/dist-packages/gdown/__main__.py:132: FutureWarning: Option `--id` was deprecated in version 4.3.1 and will be removed in 5.0. You don't need to pass it anymore to use a file ID.\n",
            "  warnings.warn(\n",
            "Downloading...\n",
            "From: https://drive.google.com/uc?id=1GHH5pz4OP2PWmCKxqSvR0Oq3FwI9mrPA\n",
            "To: /content/server_logs - Copy.csv\n",
            "100% 6.71k/6.71k [00:00<00:00, 25.1MB/s]\n",
            "/usr/local/lib/python3.10/dist-packages/gdown/__main__.py:132: FutureWarning: Option `--id` was deprecated in version 4.3.1 and will be removed in 5.0. You don't need to pass it anymore to use a file ID.\n",
            "  warnings.warn(\n",
            "Downloading...\n",
            "From: https://drive.google.com/uc?id=1ofjTfvsPyIwel7R8Vmx9XHS_NOdWr6Hd\n",
            "To: /content/new_server_logs.csv\n",
            "100% 3.50k/3.50k [00:00<00:00, 10.6MB/s]\n",
            "/usr/local/lib/python3.10/dist-packages/gdown/__main__.py:132: FutureWarning: Option `--id` was deprecated in version 4.3.1 and will be removed in 5.0. You don't need to pass it anymore to use a file ID.\n",
            "  warnings.warn(\n",
            "Downloading...\n",
            "From: https://drive.google.com/uc?id=1-Hq4hH_Qeo1MWeQeinBVpwaIOFUDY7z2\n",
            "To: /content/dataset_archived_big.csv\n",
            "100% 20.7k/20.7k [00:00<00:00, 35.8MB/s]\n"
          ]
        }
      ]
    },
    {
      "cell_type": "code",
      "source": [
        "def train_detection_model(server_logs_file):\n",
        "\n",
        "    server_logs = pd.read_csv(server_logs_file)\n",
        "    server_logs = server_logs.dropna()\n",
        "\n",
        "    server_logs['request_method'] = server_logs['request_method'].astype('category')\n",
        "    server_logs['request_method_encoded'] = server_logs['request_method'].cat.codes\n",
        "\n",
        "    scaler = StandardScaler()\n",
        "    server_logs['request_duration_scaled'] = scaler.fit_transform(server_logs['request_duration'].values.reshape(-1, 1))\n",
        "\n",
        "    server_logs['request_rate_per_ip'] = server_logs.groupby('source_ip')['timestamp'].transform('count')\n",
        "    server_logs['success_to_failure_ratio'] = server_logs.groupby('source_ip').apply(lambda x: (x['response_status'] // 100 == 2).sum() / max((x['response_status'] // 100 != 2).sum(), 1))\n",
        "    server_logs['avg_request_duration_per_ip'] = server_logs.groupby('source_ip')['request_duration_scaled'].transform('mean')\n",
        "    server_logs['url_entropy_per_ip'] = server_logs.groupby('source_ip')['request_url'].transform(lambda x: -sum(p * math.log(p) for p in x.value_counts(normalize=True)))\n",
        "\n",
        "    X = server_logs[['request_rate_per_ip', 'success_to_failure_ratio', 'avg_request_duration_per_ip', 'url_entropy_per_ip', 'request_method_encoded']]\n",
        "    y = (server_logs['response_status'] // 100 != 2).astype(int)\n",
        "\n",
        "    X_train, X_test, y_train, _ = train_test_split(X, y, test_size=0.2, random_state=42)\n",
        "\n",
        "    imputer = SimpleImputer(strategy='mean')\n",
        "    X_train_imputed = imputer.fit_transform(X_train)\n",
        "    X_test_imputed = imputer.transform(X_test)\n",
        "\n",
        "    rf = RandomForestClassifier(n_estimators=100, random_state=42)\n",
        "    rf.fit(X_train_imputed, y_train)\n",
        "\n",
        "    return rf, imputer"
      ],
      "metadata": {
        "id": "nb_mnzbVzt0e"
      },
      "execution_count": null,
      "outputs": []
    },
    {
      "cell_type": "code",
      "source": [
        "def detect_ddos(new_logs_file, detection_model, imputer):\n",
        "\n",
        "    new_logs = pd.read_csv(new_logs_file)\n",
        "    new_logs['request_method'] = new_logs['request_method'].astype('category')\n",
        "    new_logs['request_method_encoded'] = new_logs['request_method'].cat.codes\n",
        "    scaler = StandardScaler()\n",
        "    new_logs['request_duration_scaled'] = scaler.fit_transform(new_logs['request_duration'].values.reshape(-1, 1))\n",
        "    new_logs['request_rate_per_ip'] = new_logs.groupby('source_ip')['timestamp'].transform('count')\n",
        "    new_logs['success_to_failure_ratio'] = new_logs.groupby('source_ip').apply(lambda x: (x['response_status'] // 100 == 2).sum() / max((x['response_status'] // 100 != 2).sum(), 1))\n",
        "    new_logs['avg_request_duration_per_ip'] = new_logs.groupby('source_ip')['request_duration_scaled'].transform('mean')\n",
        "    new_logs['url_entropy_per_ip'] = new_logs.groupby('source_ip')['request_url'].transform(lambda x: -sum(p * math.log(p) for p in x.value_counts(normalize=True)))\n",
        "\n",
        "    X_new = new_logs[['request_rate_per_ip', 'success_to_failure_ratio', 'avg_request_duration_per_ip', 'url_entropy_per_ip', 'request_method_encoded']]\n",
        "    X_new_imputed = imputer.transform(X_new)\n",
        "    y_new_pred = detection_model.predict(X_new_imputed)\n",
        "\n",
        "    attack_ips = new_logs.loc[y_new_pred == 1, 'source_ip'].unique()\n",
        "    return attack_ips"
      ],
      "metadata": {
        "id": "fA7Pc1oNzylM"
      },
      "execution_count": null,
      "outputs": []
    },
    {
      "cell_type": "code",
      "source": [
        "def mitigate_attack(server_logs, attack_ips, firewall_config_file):\n",
        "\n",
        "    with open(firewall_config_file, 'a') as f:\n",
        "        for ip in attack_ips:\n",
        "            f.write(f'iptables -A INPUT -s {ip} -j DROP')\n",
        "            f.write(f'\\n')\n",
        "\n",
        "    for ip in attack_ips:\n",
        "        print(f'Blocked IP address {ip} due to detected DDoS attack.')\n",
        "        log_mitigation_action(server_logs, ip)"
      ],
      "metadata": {
        "id": "abughusCz12t"
      },
      "execution_count": null,
      "outputs": []
    },
    {
      "cell_type": "code",
      "source": [
        "def log_mitigation_action(server_logs, ip_address):\n",
        "\n",
        "    ip_logs = server_logs[server_logs['source_ip'] == ip_address]\n",
        "\n",
        "    with open('mitigation_log.txt', 'a') as f:\n",
        "        f.write(f'Blocked IP address {ip_address} at {time.strftime(\"%Y-%m-%d %H:%M:%S\")}\\n')\n",
        "        f.write('Related log entries:\\n')\n",
        "        for _, row in ip_logs.iterrows():\n",
        "            f.write(f'- Timestamp: {row[\"timestamp\"]}, Request URL: {row[\"request_url\"]}, Response Status: {row[\"response_status\"]}\\n')\n",
        "        f.write('\\n')"
      ],
      "metadata": {
        "id": "q2jiiUWQz94b"
      },
      "execution_count": null,
      "outputs": []
    },
    {
      "cell_type": "code",
      "source": [
        "server_logs_file = 'new_server_logs.csv'\n",
        "new_logs_file = 'dataset_archived_big.csv'"
      ],
      "metadata": {
        "id": "7qPh51w4z_-p"
      },
      "execution_count": null,
      "outputs": []
    },
    {
      "cell_type": "code",
      "source": [
        "detection_model, imputer = train_detection_model(server_logs_file)"
      ],
      "metadata": {
        "id": "85AdfWS-_NEO",
        "colab": {
          "base_uri": "https://localhost:8080/"
        },
        "outputId": "586288a3-f089-40f5-ffa6-91a847305fe7"
      },
      "execution_count": null,
      "outputs": [
        {
          "output_type": "stream",
          "name": "stderr",
          "text": [
            "/usr/local/lib/python3.10/dist-packages/sklearn/impute/_base.py:558: UserWarning: Skipping features without any observed values: ['success_to_failure_ratio']. At least one non-missing value is needed for imputation with strategy='mean'.\n",
            "  warnings.warn(\n",
            "/usr/local/lib/python3.10/dist-packages/sklearn/impute/_base.py:558: UserWarning: Skipping features without any observed values: ['success_to_failure_ratio']. At least one non-missing value is needed for imputation with strategy='mean'.\n",
            "  warnings.warn(\n"
          ]
        }
      ]
    },
    {
      "cell_type": "code",
      "source": [
        "attack_ips = detect_ddos(new_logs_file, detection_model, imputer)"
      ],
      "metadata": {
        "id": "YgnWEvY00Kjt",
        "colab": {
          "base_uri": "https://localhost:8080/"
        },
        "outputId": "f2f9ae14-128c-4a24-9d70-2384bbb77743"
      },
      "execution_count": null,
      "outputs": [
        {
          "output_type": "stream",
          "name": "stderr",
          "text": [
            "/usr/local/lib/python3.10/dist-packages/sklearn/impute/_base.py:558: UserWarning: Skipping features without any observed values: ['success_to_failure_ratio']. At least one non-missing value is needed for imputation with strategy='mean'.\n",
            "  warnings.warn(\n"
          ]
        }
      ]
    },
    {
      "cell_type": "code",
      "source": [
        "if len(attack_ips) > 0:\n",
        "    firewall_config_file = 'firewall_config.txt'\n",
        "    mitigate_attack(pd.read_csv(new_logs_file), attack_ips, firewall_config_file)"
      ],
      "metadata": {
        "colab": {
          "base_uri": "https://localhost:8080/"
        },
        "id": "4_Uls1LQ0MKG",
        "outputId": "aa8897d8-d6cb-4f65-c653-9f97562534d5"
      },
      "execution_count": null,
      "outputs": [
        {
          "output_type": "stream",
          "name": "stdout",
          "text": [
            "Blocked IP address 223.254.74.157 due to detected DDoS attack.\n",
            "Blocked IP address 58.30.103.184 due to detected DDoS attack.\n",
            "Blocked IP address 93.47.162.191 due to detected DDoS attack.\n",
            "Blocked IP address 183.51.44.206 due to detected DDoS attack.\n",
            "Blocked IP address 85.2.215.227 due to detected DDoS attack.\n",
            "Blocked IP address 41.204.111.51 due to detected DDoS attack.\n",
            "Blocked IP address 68.226.160.154 due to detected DDoS attack.\n",
            "Blocked IP address 65.15.73.124 due to detected DDoS attack.\n",
            "Blocked IP address 90.212.189.26 due to detected DDoS attack.\n",
            "Blocked IP address 246.253.50.168 due to detected DDoS attack.\n",
            "Blocked IP address 124.50.135.209 due to detected DDoS attack.\n",
            "Blocked IP address 216.11.36.255 due to detected DDoS attack.\n",
            "Blocked IP address 232.230.137.47 due to detected DDoS attack.\n",
            "Blocked IP address 48.194.83.108 due to detected DDoS attack.\n",
            "Blocked IP address 140.163.159.130 due to detected DDoS attack.\n",
            "Blocked IP address 42.201.211.79 due to detected DDoS attack.\n",
            "Blocked IP address 200.210.228.177 due to detected DDoS attack.\n",
            "Blocked IP address 219.113.54.108 due to detected DDoS attack.\n",
            "Blocked IP address 27.111.18.186 due to detected DDoS attack.\n",
            "Blocked IP address 53.179.51.38 due to detected DDoS attack.\n",
            "Blocked IP address 77.129.14.194 due to detected DDoS attack.\n",
            "Blocked IP address 59.84.20.209 due to detected DDoS attack.\n",
            "Blocked IP address 105.97.232.138 due to detected DDoS attack.\n",
            "Blocked IP address 118.213.248.175 due to detected DDoS attack.\n",
            "Blocked IP address 248.18.89.167 due to detected DDoS attack.\n",
            "Blocked IP address 58.237.52.198 due to detected DDoS attack.\n",
            "Blocked IP address 30.96.48.58 due to detected DDoS attack.\n"
          ]
        }
      ]
    }
  ]
}